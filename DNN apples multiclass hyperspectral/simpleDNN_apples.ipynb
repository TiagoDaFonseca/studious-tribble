{
 "cells": [
  {
   "cell_type": "code",
   "execution_count": 5,
   "metadata": {},
   "outputs": [
    {
     "name": "stdout",
     "output_type": "stream",
     "text": [
      "/Users/tiagocunha/Documents/Jupyter\r\n"
     ]
    }
   ],
   "source": [
    "!pwd"
   ]
  },
  {
   "cell_type": "code",
   "execution_count": 6,
   "metadata": {},
   "outputs": [],
   "source": [
    "from keras.models import Sequential\n",
    "from keras.layers import Dense\n",
    "from keras.wrappers.scikit_learn import KerasClassifier\n",
    "from sklearn.model_selection import KFold, train_test_split\n",
    "from sklearn.model_selection import cross_val_score\n",
    "from sklearn.metrics import r2_score\n",
    "import numpy as np\n",
    "import pandas as pd\n",
    "import logging"
   ]
  },
  {
   "cell_type": "code",
   "execution_count": 7,
   "metadata": {},
   "outputs": [],
   "source": [
    "logging.basicConfig(level=logging.INFO)"
   ]
  },
  {
   "cell_type": "code",
   "execution_count": 8,
   "metadata": {},
   "outputs": [],
   "source": [
    "def create_model():\n",
    "    model = Sequential()\n",
    "    model.add(Dense(20, activation='relu', input_dim=204))\n",
    "    model.add(Dense(4, activation='softmax')) # FOUR OUTPUTS ARE EXPECTED\n",
    "    model.compile(loss='categorical_crossentropy',optimizer='adam', metrics=['accuracy'])\n",
    "    return model"
   ]
  },
  {
   "cell_type": "code",
   "execution_count": 9,
   "metadata": {},
   "outputs": [],
   "source": [
    "np.random.seed(42)"
   ]
  },
  {
   "cell_type": "code",
   "execution_count": 10,
   "metadata": {},
   "outputs": [],
   "source": [
    "data = pd.read_excel('/Users/tiagocunha/Documents/workspace/data/apples.xlsx', engine='openpyxl')"
   ]
  },
  {
   "cell_type": "code",
   "execution_count": 11,
   "metadata": {},
   "outputs": [
    {
     "data": {
      "text/html": [
       "<div>\n",
       "<style scoped>\n",
       "    .dataframe tbody tr th:only-of-type {\n",
       "        vertical-align: middle;\n",
       "    }\n",
       "\n",
       "    .dataframe tbody tr th {\n",
       "        vertical-align: top;\n",
       "    }\n",
       "\n",
       "    .dataframe thead th {\n",
       "        text-align: right;\n",
       "    }\n",
       "</style>\n",
       "<table border=\"1\" class=\"dataframe\">\n",
       "  <thead>\n",
       "    <tr style=\"text-align: right;\">\n",
       "      <th></th>\n",
       "      <th>Band1</th>\n",
       "      <th>Band2</th>\n",
       "      <th>Band3</th>\n",
       "      <th>Band4</th>\n",
       "      <th>Band5</th>\n",
       "      <th>Band6</th>\n",
       "      <th>Band7</th>\n",
       "      <th>Band8</th>\n",
       "      <th>Band9</th>\n",
       "      <th>Band10</th>\n",
       "      <th>...</th>\n",
       "      <th>Band200</th>\n",
       "      <th>Band201</th>\n",
       "      <th>Band202</th>\n",
       "      <th>Band203</th>\n",
       "      <th>Band204</th>\n",
       "      <th>Label</th>\n",
       "      <th>Class 0</th>\n",
       "      <th>Class 1</th>\n",
       "      <th>Class 2</th>\n",
       "      <th>Class 3</th>\n",
       "    </tr>\n",
       "  </thead>\n",
       "  <tbody>\n",
       "    <tr>\n",
       "      <th>0</th>\n",
       "      <td>0.366667</td>\n",
       "      <td>0.333333</td>\n",
       "      <td>0.28</td>\n",
       "      <td>0.253968</td>\n",
       "      <td>0.240000</td>\n",
       "      <td>0.218391</td>\n",
       "      <td>0.222222</td>\n",
       "      <td>0.207207</td>\n",
       "      <td>0.203252</td>\n",
       "      <td>0.207407</td>\n",
       "      <td>...</td>\n",
       "      <td>0.583333</td>\n",
       "      <td>0.553571</td>\n",
       "      <td>0.584906</td>\n",
       "      <td>0.58</td>\n",
       "      <td>0.586957</td>\n",
       "      <td>0</td>\n",
       "      <td>1</td>\n",
       "      <td>0</td>\n",
       "      <td>0</td>\n",
       "      <td>0</td>\n",
       "    </tr>\n",
       "    <tr>\n",
       "      <th>1</th>\n",
       "      <td>0.400000</td>\n",
       "      <td>0.282051</td>\n",
       "      <td>0.28</td>\n",
       "      <td>0.238095</td>\n",
       "      <td>0.226667</td>\n",
       "      <td>0.195402</td>\n",
       "      <td>0.202020</td>\n",
       "      <td>0.198198</td>\n",
       "      <td>0.195122</td>\n",
       "      <td>0.185185</td>\n",
       "      <td>...</td>\n",
       "      <td>0.566667</td>\n",
       "      <td>0.571429</td>\n",
       "      <td>0.584906</td>\n",
       "      <td>0.58</td>\n",
       "      <td>0.608696</td>\n",
       "      <td>0</td>\n",
       "      <td>1</td>\n",
       "      <td>0</td>\n",
       "      <td>0</td>\n",
       "      <td>0</td>\n",
       "    </tr>\n",
       "    <tr>\n",
       "      <th>2</th>\n",
       "      <td>0.366667</td>\n",
       "      <td>0.307692</td>\n",
       "      <td>0.26</td>\n",
       "      <td>0.222222</td>\n",
       "      <td>0.213333</td>\n",
       "      <td>0.195402</td>\n",
       "      <td>0.191919</td>\n",
       "      <td>0.189189</td>\n",
       "      <td>0.178862</td>\n",
       "      <td>0.170370</td>\n",
       "      <td>...</td>\n",
       "      <td>0.550000</td>\n",
       "      <td>0.571429</td>\n",
       "      <td>0.584906</td>\n",
       "      <td>0.58</td>\n",
       "      <td>0.565217</td>\n",
       "      <td>0</td>\n",
       "      <td>1</td>\n",
       "      <td>0</td>\n",
       "      <td>0</td>\n",
       "      <td>0</td>\n",
       "    </tr>\n",
       "    <tr>\n",
       "      <th>3</th>\n",
       "      <td>0.366667</td>\n",
       "      <td>0.307692</td>\n",
       "      <td>0.24</td>\n",
       "      <td>0.222222</td>\n",
       "      <td>0.200000</td>\n",
       "      <td>0.195402</td>\n",
       "      <td>0.171717</td>\n",
       "      <td>0.180180</td>\n",
       "      <td>0.154472</td>\n",
       "      <td>0.155556</td>\n",
       "      <td>...</td>\n",
       "      <td>0.550000</td>\n",
       "      <td>0.571429</td>\n",
       "      <td>0.566038</td>\n",
       "      <td>0.56</td>\n",
       "      <td>0.586957</td>\n",
       "      <td>0</td>\n",
       "      <td>1</td>\n",
       "      <td>0</td>\n",
       "      <td>0</td>\n",
       "      <td>0</td>\n",
       "    </tr>\n",
       "    <tr>\n",
       "      <th>4</th>\n",
       "      <td>0.366667</td>\n",
       "      <td>0.307692</td>\n",
       "      <td>0.26</td>\n",
       "      <td>0.206349</td>\n",
       "      <td>0.200000</td>\n",
       "      <td>0.183908</td>\n",
       "      <td>0.181818</td>\n",
       "      <td>0.162162</td>\n",
       "      <td>0.154472</td>\n",
       "      <td>0.148148</td>\n",
       "      <td>...</td>\n",
       "      <td>0.600000</td>\n",
       "      <td>0.589286</td>\n",
       "      <td>0.584906</td>\n",
       "      <td>0.60</td>\n",
       "      <td>0.622222</td>\n",
       "      <td>0</td>\n",
       "      <td>1</td>\n",
       "      <td>0</td>\n",
       "      <td>0</td>\n",
       "      <td>0</td>\n",
       "    </tr>\n",
       "  </tbody>\n",
       "</table>\n",
       "<p>5 rows × 209 columns</p>\n",
       "</div>"
      ],
      "text/plain": [
       "      Band1     Band2  Band3     Band4     Band5     Band6     Band7  \\\n",
       "0  0.366667  0.333333   0.28  0.253968  0.240000  0.218391  0.222222   \n",
       "1  0.400000  0.282051   0.28  0.238095  0.226667  0.195402  0.202020   \n",
       "2  0.366667  0.307692   0.26  0.222222  0.213333  0.195402  0.191919   \n",
       "3  0.366667  0.307692   0.24  0.222222  0.200000  0.195402  0.171717   \n",
       "4  0.366667  0.307692   0.26  0.206349  0.200000  0.183908  0.181818   \n",
       "\n",
       "      Band8     Band9    Band10  ...   Band200   Band201   Band202  Band203  \\\n",
       "0  0.207207  0.203252  0.207407  ...  0.583333  0.553571  0.584906     0.58   \n",
       "1  0.198198  0.195122  0.185185  ...  0.566667  0.571429  0.584906     0.58   \n",
       "2  0.189189  0.178862  0.170370  ...  0.550000  0.571429  0.584906     0.58   \n",
       "3  0.180180  0.154472  0.155556  ...  0.550000  0.571429  0.566038     0.56   \n",
       "4  0.162162  0.154472  0.148148  ...  0.600000  0.589286  0.584906     0.60   \n",
       "\n",
       "    Band204  Label  Class 0  Class 1  Class 2  Class 3  \n",
       "0  0.586957      0        1        0        0        0  \n",
       "1  0.608696      0        1        0        0        0  \n",
       "2  0.565217      0        1        0        0        0  \n",
       "3  0.586957      0        1        0        0        0  \n",
       "4  0.622222      0        1        0        0        0  \n",
       "\n",
       "[5 rows x 209 columns]"
      ]
     },
     "execution_count": 11,
     "metadata": {},
     "output_type": "execute_result"
    }
   ],
   "source": [
    "data.head()"
   ]
  },
  {
   "cell_type": "code",
   "execution_count": 8,
   "metadata": {},
   "outputs": [],
   "source": [
    "\n",
    "dfX = data[[f'Band{i}' for i in range(1,205)]]\n",
    "# dfY = data['Label']\n",
    "dfY = data[['Class 0', 'Class 1', 'Class 2', 'Class 3']]"
   ]
  },
  {
   "cell_type": "code",
   "execution_count": 9,
   "metadata": {},
   "outputs": [
    {
     "name": "stdout",
     "output_type": "stream",
     "text": [
      "(143775, 204)\n",
      "(143775, 4)\n"
     ]
    }
   ],
   "source": [
    "\n",
    "print(dfX.shape)\n",
    "print(dfY.shape)"
   ]
  },
  {
   "cell_type": "code",
   "execution_count": 10,
   "metadata": {},
   "outputs": [],
   "source": [
    "X = dfX.to_numpy()\n",
    "y = dfY.to_numpy()\n",
    "\n"
   ]
  },
  {
   "cell_type": "code",
   "execution_count": null,
   "metadata": {},
   "outputs": [],
   "source": []
  },
  {
   "cell_type": "code",
   "execution_count": 11,
   "metadata": {},
   "outputs": [
    {
     "name": "stdout",
     "output_type": "stream",
     "text": [
      "Epoch 1/10\n",
      "2247/2247 [==============================] - 25s 1ms/step - loss: 0.2857 - accuracy: 0.9050\n",
      "Epoch 2/10\n",
      "2247/2247 [==============================] - 3s 1ms/step - loss: 0.0266 - accuracy: 0.9906\n",
      "Epoch 3/10\n",
      "2247/2247 [==============================] - 3s 1ms/step - loss: 0.0207 - accuracy: 0.9925\n",
      "Epoch 4/10\n",
      "2247/2247 [==============================] - 3s 1ms/step - loss: 0.0184 - accuracy: 0.9927\n",
      "Epoch 5/10\n",
      "2247/2247 [==============================] - 4s 2ms/step - loss: 0.0194 - accuracy: 0.9928\n",
      "Epoch 6/10\n",
      "2247/2247 [==============================] - 4s 2ms/step - loss: 0.0186 - accuracy: 0.9933\n",
      "Epoch 7/10\n",
      "2247/2247 [==============================] - 4s 2ms/step - loss: 0.0179 - accuracy: 0.9937\n",
      "Epoch 8/10\n",
      "2247/2247 [==============================] - 5s 2ms/step - loss: 0.0164 - accuracy: 0.9936\n",
      "Epoch 9/10\n",
      "2247/2247 [==============================] - 4s 2ms/step - loss: 0.0162 - accuracy: 0.9941: 0s - loss: 0.0161 - \n",
      "Epoch 10/10\n",
      "2247/2247 [==============================] - 3s 2ms/step - loss: 0.0168 - accuracy: 0.9938\n"
     ]
    },
    {
     "data": {
      "text/plain": [
       "<keras.callbacks.History at 0x7fe206071a90>"
      ]
     },
     "execution_count": 11,
     "metadata": {},
     "output_type": "execute_result"
    }
   ],
   "source": [
    "clf = KerasClassifier(build_fn=create_model, epochs=10, verbose=1)\n",
    "X_train, X_test, y_train, y_test = train_test_split(X, y, test_size=0.5)\n",
    "clf.fit(X_train, y_train)"
   ]
  },
  {
   "cell_type": "code",
   "execution_count": 12,
   "metadata": {},
   "outputs": [
    {
     "name": "stderr",
     "output_type": "stream",
     "text": [
      "/Users/tiagocunha/opt/anaconda3/envs/spyder-env/lib/python3.8/site-packages/keras/engine/sequential.py:450: UserWarning: `model.predict_classes()` is deprecated and will be removed after 2021-01-01. Please use instead:* `np.argmax(model.predict(x), axis=-1)`,   if your model does multi-class classification   (e.g. if it uses a `softmax` last-layer activation).* `(model.predict(x) > 0.5).astype(\"int32\")`,   if your model does binary classification   (e.g. if it uses a `sigmoid` last-layer activation).\n",
      "  warnings.warn('`model.predict_classes()` is deprecated and '\n"
     ]
    },
    {
     "name": "stdout",
     "output_type": "stream",
     "text": [
      "2247/2247 [==============================] - 3s 1ms/step\n",
      "[3 3 2 ... 2 1 1]\n"
     ]
    }
   ],
   "source": [
    "y_pred = clf.predict(X_test)\n",
    "print(y_pred)"
   ]
  },
  {
   "cell_type": "code",
   "execution_count": 13,
   "metadata": {},
   "outputs": [
    {
     "name": "stdout",
     "output_type": "stream",
     "text": [
      "2247/2247 [==============================] - 4s 2ms/step - loss: 0.0188 - accuracy: 0.9930\n",
      "Test Score: 0.9930030107498169\n"
     ]
    }
   ],
   "source": [
    "print(f\"Test Score: {clf.score(X_test, y_test)}\")"
   ]
  },
  {
   "cell_type": "code",
   "execution_count": 14,
   "metadata": {},
   "outputs": [],
   "source": [
    "import tensorflow as tf"
   ]
  },
  {
   "cell_type": "code",
   "execution_count": 15,
   "metadata": {},
   "outputs": [
    {
     "name": "stdout",
     "output_type": "stream",
     "text": [
      "INFO:tensorflow:Assets written to: apples_model/assets\n"
     ]
    },
    {
     "name": "stderr",
     "output_type": "stream",
     "text": [
      "INFO:tensorflow:Assets written to: apples_model/assets\n"
     ]
    }
   ],
   "source": [
    "# Convert the model.\n",
    "clf.model.save('apples_model')\n"
   ]
  },
  {
   "cell_type": "code",
   "execution_count": 68,
   "metadata": {},
   "outputs": [],
   "source": [
    "\n",
    "def representative_dataset():\n",
    "    for _ in range(100):\n",
    "      data = np.random.rand(1, 204)\n",
    "      yield [data.astype(np.float32)]\n",
    "\n",
    "# converter = tf.lite.TFLiteConverter.from_keras_model(clf.model)\n",
    "converter = tf.lite.TFLiteConverter.from_saved_model('apples_model')\n",
    "#Quantize the model\n",
    "converter.optimizations = [tf.lite.Optimize.DEFAULT]\n",
    "#converter.target_spec.supported_ops = [tf.lite.OpsSet.TFLITE_BUILTINS] # enable TensorFlow Lite ops.]\n",
    "\n",
    "#converter.target_spec.supported_ops = [tf.lite.OpsSet.TFLITE_BUILTINS]\n",
    "converter.representative_dataset = representative_dataset\n",
    "\n",
    "#converter.target_spec.supported_types = [tf.float16]\n",
    "\n",
    "tflite_model = converter.convert()\n",
    "\n",
    "# Save the model.\n",
    "with open('apples_model.tflite', 'wb') as f:\n",
    "    f.write(tflite_model)"
   ]
  },
  {
   "cell_type": "code",
   "execution_count": 91,
   "metadata": {},
   "outputs": [],
   "source": [
    "# Function: Convert some hex value into an array for C programming\n",
    "def hex_to_c_array(hex_data, var_name):\n",
    "\n",
    "  c_str = ''\n",
    "\n",
    "  # Create header guard\n",
    "  c_str  += '#ifndef ' +  var_name.upper() +  '_H\\n'\n",
    "  c_str  += '#define ' +  var_name.upper() +  '_H\\n\\n'\n",
    "\n",
    "  # Add array length at top of file\n",
    "  c_str  += '\\nunsigned int ' +  var_name +  '_len = ' +  str(len(hex_data)) +  ';\\n'\n",
    "\n",
    "  # Declare C variable\n",
    "  c_str += 'unsigned char '  + var_name  + '[] = {'\n",
    "  hex_array = []\n",
    "  for i, val in enumerate(hex_data) :\n",
    "\n",
    "    # Construct string from hex\n",
    "    hex_str = format(val, '#04x')\n",
    "\n",
    "    # Add formatting so each line stays within 80 characters\n",
    "    if (i +  1) < len(hex_data):\n",
    "      hex_str += ','\n",
    "    if (i +  1) % 12 == 0:\n",
    "      hex_str += '\\n '\n",
    "    hex_array.append(hex_str)\n",
    "\n",
    "  # Add closing brace\n",
    "  c_str += '\\n ' +  format(' '.join(hex_array)) +  '\\n};\\n\\n'\n",
    "\n",
    "  # Close out header guard\n",
    "  c_str += '#endif //' +  var_name.upper() +  '_H'\n",
    "\n",
    "  return c_str"
   ]
  },
  {
   "cell_type": "code",
   "execution_count": 92,
   "metadata": {},
   "outputs": [],
   "source": [
    "# Write TFLite model to a C source (or header) file\n",
    "with open('apples_model.h', 'w') as file:\n",
    "  file.write(hex_to_c_array(tflite_model, 'apples_model'))"
   ]
  },
  {
   "cell_type": "code",
   "execution_count": 62,
   "metadata": {},
   "outputs": [],
   "source": [
    "# Load the TFLite model in TFLite Interpreter\n",
    "interpreter = tf.lite.Interpreter('apples_model.tflite')"
   ]
  },
  {
   "cell_type": "code",
   "execution_count": 66,
   "metadata": {},
   "outputs": [
    {
     "name": "stdout",
     "output_type": "stream",
     "text": [
      "[[0.99609375 0.00390625 0.         0.        ]]\n"
     ]
    }
   ],
   "source": [
    "interpreter.allocate_tensors()\n",
    "\n",
    "# Get input and output tensors.\n",
    "input_details = interpreter.get_input_details()\n",
    "output_details = interpreter.get_output_details()\n",
    "\n",
    "# Test the model on random input data.\n",
    "input_shape = input_details[0]['shape']\n",
    "input_data = np.array(np.random.random_sample(input_shape), dtype=np.float32)\n",
    "#print(input_data)\n",
    "input_data = np.array([[0.366666675, 0.333333343, 0.280000001, 0.253968269, 0.239999995, 0.218390808, 0.222222224, 0.207207203, 0.203252032, 0.2074074, 0.201342285, 0.196319014, 0.196629211, 0.195876285, 0.193396226, 0.192139745, 0.19758065, 0.200000003, 0.199312717, 0.203821659, 0.207715139, 0.207282916, 0.206349209, 0.208542719, 0.213942304, 0.211009175, 0.217105269, 0.220588237, 0.218875498, 0.219230771, 0.22324723, 0.224778756, 0.225255966, 0.22660099, 0.231378764, 0.2324159, 0.232352942, 0.230878189, 0.234652117, 0.231979027, 0.237074405, 0.240875915, 0.238823533, 0.242009133, 0.245283023, 0.24406047, 0.243414119, 0.245901644, 0.246246248, 0.24583742, 0.248803824, 0.248826295, 0.25, 0.250678748, 0.251561105, 0.253744483, 0.253472209, 0.25731498, 0.257021278, 0.255480617, 0.259631485, 0.2570481, 0.263201326, 0.260869563, 0.268074721, 0.268391281, 0.271922767, 0.27635783, 0.283439487, 0.288095236, 0.29588607, 0.302454472, 0.308846772, 0.314624518, 0.324345767, 0.334126979, 0.344470948, 0.351718634, 0.362690151, 0.372485936, 0.387278587, 0.394842863, 0.40647772, 0.418092906, 0.419196069, 0.422757477, 0.427135676, 0.429661006, 0.439862549, 0.439722449, 0.441512764, 0.439678282, 0.431425989, 0.42949906, 0.423984885, 0.426923066, 0.429268301, 0.436023623, 0.459325403, 0.493506491, 0.527472556, 0.561999977, 0.590772331, 0.611222446, 0.622983873, 0.636548221, 0.642126799, 0.653526962, 0.656512618, 0.660638273, 0.664502144, 0.668859661, 0.667781472, 0.674259663, 0.670520246  ,0.666666687  ,0.667067289, 0.663003683, 0.669987559, 0.662420392, 0.665799737, 0.667110503, 0.672554374, 0.667593896, 0.667617679, 0.673469365, 0.670640826, 0.666666687, 0.672386885, 0.674679458, 0.683774829, 0.666666687, 0.674782634, 0.673796773, 0.669104218, 0.67608285, 0.680154145, 0.672619045, 0.675510228, 0.68058455, 0.672376871, 0.676211476, 0.669662893, 0.673563242, 0.665882349, 0.669879496, 0.665841579, 0.653164566, 0.664935052, 0.65691489, 0.657608688, 0.65459609, 0.658119678, 0.656976759, 0.658753693, 0.669696987, 0.663580239, 0.661392391, 0.655844152, 0.665551841, 0.656357408, 0.657243788, 0.649819493, 0.650557637, 0.664122164, 0.64453125, 0.641129017, 0.647302926, 0.648068666, 0.64159292, 0.645454526, 0.63380283, 0.631067932, 0.623115599, 0.625, 0.618279576, 0.611111104, 0.614942551, 0.613095224, 0.602484465, 0.597402573, 0.587837815, 0.598591566, 0.602941155, 0.592307687, 0.59677422, 0.593220353, 0.566371679, 0.570093453, 0.57843136, 0.551020384, 0.569892466, 0.556818187, 0.559523821, 0.556962013, 0.560000002, 0.577464759, 0.567164183, 0.578125, 0.583333313, 0.553571403, 0.584905684, 0.579999983, 0.586956501]], dtype=np.float32)\n",
    "#print(input_details[0]['index'])\n",
    "interpreter.set_tensor(input_details[0]['index'], input_data)\n",
    "#print(input_details[0].keys())\n",
    "#print(output_details)\n",
    "#print(input_shape)\n",
    "#print(input_data.shape)\n",
    "interpreter.invoke()\n",
    "\n",
    "# The function `get_tensor()` returns a copy of the tensor data.\n",
    "# Use `tensor()` in order to get a pointer to the tensor.\n",
    "output_data = interpreter.get_tensor(output_details[0]['index'])\n",
    "print(output_data)"
   ]
  },
  {
   "cell_type": "code",
   "execution_count": 2,
   "metadata": {},
   "outputs": [
    {
     "data": {
      "application/javascript": [
       "\n",
       "        if (window._pyforest_update_imports_cell) { window._pyforest_update_imports_cell('import numpy as np'); }\n",
       "    "
      ],
      "text/plain": [
       "<IPython.core.display.Javascript object>"
      ]
     },
     "metadata": {},
     "output_type": "display_data"
    },
    {
     "ename": "NameError",
     "evalue": "name 'output_data' is not defined",
     "output_type": "error",
     "traceback": [
      "\u001b[0;31m---------------------------------------------------------------------------\u001b[0m",
      "\u001b[0;31mNameError\u001b[0m                                 Traceback (most recent call last)",
      "\u001b[0;32m<ipython-input-2-1fae1ffd8710>\u001b[0m in \u001b[0;36m<module>\u001b[0;34m\u001b[0m\n\u001b[1;32m      1\u001b[0m \u001b[0mlabels\u001b[0m \u001b[0;34m=\u001b[0m \u001b[0;34m[\u001b[0m\u001b[0;34m\"real red apple\"\u001b[0m\u001b[0;34m,\u001b[0m \u001b[0;34m\"fake red apple\"\u001b[0m \u001b[0;34m,\u001b[0m \u001b[0;34m\"real green apple\"\u001b[0m\u001b[0;34m,\u001b[0m \u001b[0;34m\"fake green apple\"\u001b[0m\u001b[0;34m]\u001b[0m\u001b[0;34m\u001b[0m\u001b[0;34m\u001b[0m\u001b[0m\n\u001b[0;32m----> 2\u001b[0;31m \u001b[0mprint\u001b[0m\u001b[0;34m(\u001b[0m\u001b[0;34mf\"Most probable class: {label[np.argmax(output_data)] if np.any(output_data>0.8) else None}\"\u001b[0m\u001b[0;34m)\u001b[0m\u001b[0;34m\u001b[0m\u001b[0;34m\u001b[0m\u001b[0m\n\u001b[0m",
      "\u001b[0;31mNameError\u001b[0m: name 'output_data' is not defined"
     ]
    }
   ],
   "source": [
    "labels = [\"real red apple\", \"fake red apple\" , \"real green apple\", \"fake green apple\"]\n",
    "print(f\"Most probable class: {label[np.argmax(output_data)] if np.any(output_data>0.8) else None}\")"
   ]
  }
 ],
 "metadata": {
  "kernelspec": {
   "display_name": "Python 3",
   "language": "python",
   "name": "python3"
  },
  "language_info": {
   "codemirror_mode": {
    "name": "ipython",
    "version": 3
   },
   "file_extension": ".py",
   "mimetype": "text/x-python",
   "name": "python",
   "nbconvert_exporter": "python",
   "pygments_lexer": "ipython3",
   "version": "3.8.10"
  }
 },
 "nbformat": 4,
 "nbformat_minor": 4
}
