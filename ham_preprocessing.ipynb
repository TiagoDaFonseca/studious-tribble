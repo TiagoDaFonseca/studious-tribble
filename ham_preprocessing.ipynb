{
 "cells": [
  {
   "cell_type": "code",
   "execution_count": 2,
   "metadata": {},
   "outputs": [
    {
     "name": "stdout",
     "output_type": "stream",
     "text": [
      "raw:  (20, 1024, 204)\n"
     ]
    },
    {
     "name": "stderr",
     "output_type": "stream",
     "text": [
      "C:\\Users\\tiago.cunha\\Anaconda3\\envs\\firefit\\lib\\site-packages\\spectral\\graphics\\spypylab.py:27: MatplotlibDeprecationWarning: \n",
      "The keymap.all_axes rcparam was deprecated in Matplotlib 3.3 and will be removed two minor releases later.\n",
      "  mpl.rcParams['keymap.all_axes'] = ''\n"
     ]
    },
    {
     "data": {
      "image/png": "[encoded data removed]",
      "text/plain": [
       "<Figure size 432x288 with 1 Axes>"
      ]
     },
     "metadata": {
      "needs_background": "light"
     },
     "output_type": "display_data"
    }
   ],
   "source": [
    "import numpy as np\n",
    "from spectral import *\n",
    "import pandas as pd \n",
    "\n",
    "cube = open_image(\"D:/HamInspectionGui/ML_Data/storage/2021_02_26_08_03_24.hdr\")\n",
    "\n",
    "raw = cube.load()\n",
    "\n",
    "print(\"raw: \", raw.shape)\n",
    "view = imshow(cube, (60, 30, 15))"
   ]
  },
  {
   "cell_type": "markdown",
   "metadata": {},
   "source": []
  },
  {
   "cell_type": "code",
   "execution_count": null,
   "metadata": {},
   "outputs": [],
   "source": []
  },
  {
   "cell_type": "code",
   "execution_count": 3,
   "metadata": {},
   "outputs": [
    {
     "name": "stdout",
     "output_type": "stream",
     "text": [
      "(512, 512, 204)\n",
      "(1, 512, 204)\n",
      "(1, 512, 204)\n"
     ]
    }
   ],
   "source": [
    "# NORMALIZATION\n",
    "def calculate_reflectance(raw, black, white):\n",
    "    r = np.array(raw)\n",
    "    b = np.array(black)\n",
    "    w = np.array(white)\n",
    "    print(r.shape)\n",
    "    print(b.shape)\n",
    "    print(w.shape)\n",
    "    return (r-b)/(w-b)\n",
    "\n",
    "data = calculate_reflectance(raw, dark, white)"
   ]
  },
  {
   "cell_type": "code",
   "execution_count": 4,
   "metadata": {},
   "outputs": [
    {
     "name": "stderr",
     "output_type": "stream",
     "text": [
      "C:\\Users\\tiago.cunha\\Anaconda3\\envs\\firefit\\lib\\site-packages\\spectral\\graphics\\spypylab.py:27: MatplotlibDeprecationWarning: \n",
      "The keymap.all_axes rcparam was deprecated in Matplotlib 3.3 and will be removed two minor releases later.\n",
      "  mpl.rcParams['keymap.all_axes'] = ''\n"
     ]
    },
    {
     "name": "stdout",
     "output_type": "stream",
     "text": [
      "(512, 512, 204)\n",
      "(262144, 204)\n"
     ]
    },
    {
     "data": {
      "image/png": "[encoded data removed]",
      "text/plain": [
       "<Figure size 432x288 with 1 Axes>"
      ]
     },
     "metadata": {
      "needs_background": "light"
     },
     "output_type": "display_data"
    },
    {
     "data": {
      "image/png": "[encoded data removed]",
      "text/plain": [
       "<Figure size 432x288 with 1 Axes>"
      ]
     },
     "metadata": {
      "needs_background": "light"
     },
     "output_type": "display_data"
    }
   ],
   "source": [
    "# SEGMENTATION\n",
    "import numpy as np\n",
    "\n",
    "# Organize data\n",
    "def extract_pixels(data):\n",
    "    d = data.reshape(-1,data.shape[2])\n",
    "    print(d.shape)\n",
    "    df = pd.DataFrame(data = d)\n",
    "    df.columns = [f'band{i}' for i in range(1, 1+d.shape[1])]\n",
    "    # save to csv\n",
    "    df.to_csv(\"D:/data/10.csv\")\n",
    "    return df\n",
    "\n",
    "def find_ham(data):\n",
    "    # Mask\n",
    "    d = np.array(data)\n",
    "    low_ref= data[:,:,10]\n",
    "    high_ref = data[:,:,150]\n",
    "    m_ref = high_ref - low_ref\n",
    "    mask = np.array(m_ref>0.3)\n",
    "    res=imshow(mask)\n",
    "    # Mask application\n",
    "    for i in range(0,d.shape[2]):\n",
    "         d[:,:,i] = d[:,:,i] * mask\n",
    "    res1 = imshow(d[:,:,50])\n",
    "    return d\n",
    "\n",
    "ham_data = find_ham(data)\n",
    "\n",
    "print(ham_data.shape)\n",
    "\n",
    "ham_pixels = extract_pixels(ham_data)"
   ]
  },
  {
   "cell_type": "code",
   "execution_count": 5,
   "metadata": {},
   "outputs": [
    {
     "name": "stdout",
     "output_type": "stream",
     "text": [
      "<class 'pandas.core.frame.DataFrame'>\n",
      "RangeIndex: 262144 entries, 0 to 262143\n",
      "Columns: 204 entries, band1 to band204\n",
      "dtypes: float32(204)\n",
      "memory usage: 204.0 MB\n"
     ]
    }
   ],
   "source": [
    "ham_pixels.info()"
   ]
  },
  {
   "cell_type": "code",
   "execution_count": 6,
   "metadata": {},
   "outputs": [
    {
     "data": {
      "text/html": [
       "<div>\n",
       "<style scoped>\n",
       "    .dataframe tbody tr th:only-of-type {\n",
       "        vertical-align: middle;\n",
       "    }\n",
       "\n",
       "    .dataframe tbody tr th {\n",
       "        vertical-align: top;\n",
       "    }\n",
       "\n",
       "    .dataframe thead th {\n",
       "        text-align: right;\n",
       "    }\n",
       "</style>\n",
       "<table border=\"1\" class=\"dataframe\">\n",
       "  <thead>\n",
       "    <tr style=\"text-align: right;\">\n",
       "      <th></th>\n",
       "      <th>band1</th>\n",
       "      <th>band2</th>\n",
       "      <th>band3</th>\n",
       "      <th>band4</th>\n",
       "      <th>band5</th>\n",
       "      <th>band6</th>\n",
       "      <th>band7</th>\n",
       "      <th>band8</th>\n",
       "      <th>band9</th>\n",
       "      <th>band10</th>\n",
       "      <th>...</th>\n",
       "      <th>band195</th>\n",
       "      <th>band196</th>\n",
       "      <th>band197</th>\n",
       "      <th>band198</th>\n",
       "      <th>band199</th>\n",
       "      <th>band200</th>\n",
       "      <th>band201</th>\n",
       "      <th>band202</th>\n",
       "      <th>band203</th>\n",
       "      <th>band204</th>\n",
       "    </tr>\n",
       "  </thead>\n",
       "  <tbody>\n",
       "    <tr>\n",
       "      <th>0</th>\n",
       "      <td>0.0</td>\n",
       "      <td>0.0</td>\n",
       "      <td>0.0</td>\n",
       "      <td>0.0</td>\n",
       "      <td>0.0</td>\n",
       "      <td>0.0</td>\n",
       "      <td>0.0</td>\n",
       "      <td>0.0</td>\n",
       "      <td>0.0</td>\n",
       "      <td>0.0</td>\n",
       "      <td>...</td>\n",
       "      <td>0.0</td>\n",
       "      <td>0.0</td>\n",
       "      <td>0.0</td>\n",
       "      <td>0.0</td>\n",
       "      <td>0.0</td>\n",
       "      <td>0.0</td>\n",
       "      <td>0.0</td>\n",
       "      <td>0.0</td>\n",
       "      <td>0.0</td>\n",
       "      <td>0.0</td>\n",
       "    </tr>\n",
       "    <tr>\n",
       "      <th>1</th>\n",
       "      <td>0.0</td>\n",
       "      <td>0.0</td>\n",
       "      <td>0.0</td>\n",
       "      <td>0.0</td>\n",
       "      <td>0.0</td>\n",
       "      <td>0.0</td>\n",
       "      <td>0.0</td>\n",
       "      <td>0.0</td>\n",
       "      <td>0.0</td>\n",
       "      <td>0.0</td>\n",
       "      <td>...</td>\n",
       "      <td>0.0</td>\n",
       "      <td>0.0</td>\n",
       "      <td>0.0</td>\n",
       "      <td>0.0</td>\n",
       "      <td>0.0</td>\n",
       "      <td>0.0</td>\n",
       "      <td>0.0</td>\n",
       "      <td>0.0</td>\n",
       "      <td>0.0</td>\n",
       "      <td>0.0</td>\n",
       "    </tr>\n",
       "    <tr>\n",
       "      <th>2</th>\n",
       "      <td>0.0</td>\n",
       "      <td>0.0</td>\n",
       "      <td>0.0</td>\n",
       "      <td>0.0</td>\n",
       "      <td>0.0</td>\n",
       "      <td>0.0</td>\n",
       "      <td>0.0</td>\n",
       "      <td>0.0</td>\n",
       "      <td>0.0</td>\n",
       "      <td>0.0</td>\n",
       "      <td>...</td>\n",
       "      <td>0.0</td>\n",
       "      <td>0.0</td>\n",
       "      <td>0.0</td>\n",
       "      <td>0.0</td>\n",
       "      <td>0.0</td>\n",
       "      <td>0.0</td>\n",
       "      <td>0.0</td>\n",
       "      <td>0.0</td>\n",
       "      <td>0.0</td>\n",
       "      <td>0.0</td>\n",
       "    </tr>\n",
       "    <tr>\n",
       "      <th>3</th>\n",
       "      <td>0.0</td>\n",
       "      <td>0.0</td>\n",
       "      <td>0.0</td>\n",
       "      <td>0.0</td>\n",
       "      <td>0.0</td>\n",
       "      <td>0.0</td>\n",
       "      <td>0.0</td>\n",
       "      <td>0.0</td>\n",
       "      <td>0.0</td>\n",
       "      <td>0.0</td>\n",
       "      <td>...</td>\n",
       "      <td>0.0</td>\n",
       "      <td>0.0</td>\n",
       "      <td>0.0</td>\n",
       "      <td>0.0</td>\n",
       "      <td>0.0</td>\n",
       "      <td>0.0</td>\n",
       "      <td>0.0</td>\n",
       "      <td>0.0</td>\n",
       "      <td>0.0</td>\n",
       "      <td>0.0</td>\n",
       "    </tr>\n",
       "    <tr>\n",
       "      <th>4</th>\n",
       "      <td>0.0</td>\n",
       "      <td>0.0</td>\n",
       "      <td>0.0</td>\n",
       "      <td>0.0</td>\n",
       "      <td>0.0</td>\n",
       "      <td>0.0</td>\n",
       "      <td>0.0</td>\n",
       "      <td>0.0</td>\n",
       "      <td>0.0</td>\n",
       "      <td>0.0</td>\n",
       "      <td>...</td>\n",
       "      <td>0.0</td>\n",
       "      <td>0.0</td>\n",
       "      <td>0.0</td>\n",
       "      <td>0.0</td>\n",
       "      <td>0.0</td>\n",
       "      <td>0.0</td>\n",
       "      <td>0.0</td>\n",
       "      <td>0.0</td>\n",
       "      <td>0.0</td>\n",
       "      <td>0.0</td>\n",
       "    </tr>\n",
       "  </tbody>\n",
       "</table>\n",
       "<p>5 rows × 204 columns</p>\n",
       "</div>"
      ],
      "text/plain": [
       "   band1  band2  band3  band4  band5  band6  band7  band8  band9  band10  ...  \\\n",
       "0    0.0    0.0    0.0    0.0    0.0    0.0    0.0    0.0    0.0     0.0  ...   \n",
       "1    0.0    0.0    0.0    0.0    0.0    0.0    0.0    0.0    0.0     0.0  ...   \n",
       "2    0.0    0.0    0.0    0.0    0.0    0.0    0.0    0.0    0.0     0.0  ...   \n",
       "3    0.0    0.0    0.0    0.0    0.0    0.0    0.0    0.0    0.0     0.0  ...   \n",
       "4    0.0    0.0    0.0    0.0    0.0    0.0    0.0    0.0    0.0     0.0  ...   \n",
       "\n",
       "   band195  band196  band197  band198  band199  band200  band201  band202  \\\n",
       "0      0.0      0.0      0.0      0.0      0.0      0.0      0.0      0.0   \n",
       "1      0.0      0.0      0.0      0.0      0.0      0.0      0.0      0.0   \n",
       "2      0.0      0.0      0.0      0.0      0.0      0.0      0.0      0.0   \n",
       "3      0.0      0.0      0.0      0.0      0.0      0.0      0.0      0.0   \n",
       "4      0.0      0.0      0.0      0.0      0.0      0.0      0.0      0.0   \n",
       "\n",
       "   band203  band204  \n",
       "0      0.0      0.0  \n",
       "1      0.0      0.0  \n",
       "2      0.0      0.0  \n",
       "3      0.0      0.0  \n",
       "4      0.0      0.0  \n",
       "\n",
       "[5 rows x 204 columns]"
      ]
     },
     "execution_count": 6,
     "metadata": {},
     "output_type": "execute_result"
    }
   ],
   "source": [
    "ham_pixels.head()"
   ]
  },
  {
   "cell_type": "code",
   "execution_count": 7,
   "metadata": {},
   "outputs": [
    {
     "data": {
      "text/html": [
       "<div>\n",
       "<style scoped>\n",
       "    .dataframe tbody tr th:only-of-type {\n",
       "        vertical-align: middle;\n",
       "    }\n",
       "\n",
       "    .dataframe tbody tr th {\n",
       "        vertical-align: top;\n",
       "    }\n",
       "\n",
       "    .dataframe thead th {\n",
       "        text-align: right;\n",
       "    }\n",
       "</style>\n",
       "<table border=\"1\" class=\"dataframe\">\n",
       "  <thead>\n",
       "    <tr style=\"text-align: right;\">\n",
       "      <th></th>\n",
       "      <th>band1</th>\n",
       "      <th>band2</th>\n",
       "      <th>band3</th>\n",
       "      <th>band4</th>\n",
       "      <th>band5</th>\n",
       "      <th>band6</th>\n",
       "      <th>band7</th>\n",
       "      <th>band8</th>\n",
       "      <th>band9</th>\n",
       "      <th>band10</th>\n",
       "      <th>...</th>\n",
       "      <th>band195</th>\n",
       "      <th>band196</th>\n",
       "      <th>band197</th>\n",
       "      <th>band198</th>\n",
       "      <th>band199</th>\n",
       "      <th>band200</th>\n",
       "      <th>band201</th>\n",
       "      <th>band202</th>\n",
       "      <th>band203</th>\n",
       "      <th>band204</th>\n",
       "    </tr>\n",
       "  </thead>\n",
       "  <tbody>\n",
       "    <tr>\n",
       "      <th>125622</th>\n",
       "      <td>0.507246</td>\n",
       "      <td>0.488095</td>\n",
       "      <td>0.484848</td>\n",
       "      <td>0.456140</td>\n",
       "      <td>0.449612</td>\n",
       "      <td>0.429577</td>\n",
       "      <td>0.426752</td>\n",
       "      <td>0.418605</td>\n",
       "      <td>0.409574</td>\n",
       "      <td>0.404878</td>\n",
       "      <td>...</td>\n",
       "      <td>0.666667</td>\n",
       "      <td>0.666667</td>\n",
       "      <td>0.666667</td>\n",
       "      <td>0.666667</td>\n",
       "      <td>0.673913</td>\n",
       "      <td>0.697674</td>\n",
       "      <td>0.682927</td>\n",
       "      <td>0.666667</td>\n",
       "      <td>0.675676</td>\n",
       "      <td>0.722222</td>\n",
       "    </tr>\n",
       "    <tr>\n",
       "      <th>125623</th>\n",
       "      <td>0.507246</td>\n",
       "      <td>0.488095</td>\n",
       "      <td>0.464646</td>\n",
       "      <td>0.429825</td>\n",
       "      <td>0.421875</td>\n",
       "      <td>0.415493</td>\n",
       "      <td>0.414013</td>\n",
       "      <td>0.406977</td>\n",
       "      <td>0.409574</td>\n",
       "      <td>0.390244</td>\n",
       "      <td>...</td>\n",
       "      <td>0.631579</td>\n",
       "      <td>0.666667</td>\n",
       "      <td>0.627451</td>\n",
       "      <td>0.687500</td>\n",
       "      <td>0.608696</td>\n",
       "      <td>0.651163</td>\n",
       "      <td>0.658537</td>\n",
       "      <td>0.692308</td>\n",
       "      <td>0.648649</td>\n",
       "      <td>0.722222</td>\n",
       "    </tr>\n",
       "    <tr>\n",
       "      <th>125624</th>\n",
       "      <td>0.521739</td>\n",
       "      <td>0.476190</td>\n",
       "      <td>0.454545</td>\n",
       "      <td>0.429825</td>\n",
       "      <td>0.414062</td>\n",
       "      <td>0.415493</td>\n",
       "      <td>0.394904</td>\n",
       "      <td>0.383721</td>\n",
       "      <td>0.382979</td>\n",
       "      <td>0.380488</td>\n",
       "      <td>...</td>\n",
       "      <td>0.631579</td>\n",
       "      <td>0.648148</td>\n",
       "      <td>0.627451</td>\n",
       "      <td>0.666667</td>\n",
       "      <td>0.630435</td>\n",
       "      <td>0.651163</td>\n",
       "      <td>0.658537</td>\n",
       "      <td>0.666667</td>\n",
       "      <td>0.675676</td>\n",
       "      <td>0.666667</td>\n",
       "    </tr>\n",
       "    <tr>\n",
       "      <th>125625</th>\n",
       "      <td>0.492754</td>\n",
       "      <td>0.476190</td>\n",
       "      <td>0.464646</td>\n",
       "      <td>0.429825</td>\n",
       "      <td>0.414062</td>\n",
       "      <td>0.408451</td>\n",
       "      <td>0.401274</td>\n",
       "      <td>0.389535</td>\n",
       "      <td>0.382979</td>\n",
       "      <td>0.380488</td>\n",
       "      <td>...</td>\n",
       "      <td>0.614035</td>\n",
       "      <td>0.611111</td>\n",
       "      <td>0.627451</td>\n",
       "      <td>0.645833</td>\n",
       "      <td>0.630435</td>\n",
       "      <td>0.674419</td>\n",
       "      <td>0.634146</td>\n",
       "      <td>0.666667</td>\n",
       "      <td>0.648649</td>\n",
       "      <td>0.694444</td>\n",
       "    </tr>\n",
       "    <tr>\n",
       "      <th>125626</th>\n",
       "      <td>0.507246</td>\n",
       "      <td>0.476190</td>\n",
       "      <td>0.454545</td>\n",
       "      <td>0.421053</td>\n",
       "      <td>0.414062</td>\n",
       "      <td>0.394366</td>\n",
       "      <td>0.394904</td>\n",
       "      <td>0.389535</td>\n",
       "      <td>0.382979</td>\n",
       "      <td>0.375610</td>\n",
       "      <td>...</td>\n",
       "      <td>0.649123</td>\n",
       "      <td>0.611111</td>\n",
       "      <td>0.627451</td>\n",
       "      <td>0.645833</td>\n",
       "      <td>0.630435</td>\n",
       "      <td>0.651163</td>\n",
       "      <td>0.658537</td>\n",
       "      <td>0.641026</td>\n",
       "      <td>0.648649</td>\n",
       "      <td>0.722222</td>\n",
       "    </tr>\n",
       "  </tbody>\n",
       "</table>\n",
       "<p>5 rows × 204 columns</p>\n",
       "</div>"
      ],
      "text/plain": [
       "           band1     band2     band3     band4     band5     band6     band7  \\\n",
       "125622  0.507246  0.488095  0.484848  0.456140  0.449612  0.429577  0.426752   \n",
       "125623  0.507246  0.488095  0.464646  0.429825  0.421875  0.415493  0.414013   \n",
       "125624  0.521739  0.476190  0.454545  0.429825  0.414062  0.415493  0.394904   \n",
       "125625  0.492754  0.476190  0.464646  0.429825  0.414062  0.408451  0.401274   \n",
       "125626  0.507246  0.476190  0.454545  0.421053  0.414062  0.394366  0.394904   \n",
       "\n",
       "           band8     band9    band10  ...   band195   band196   band197  \\\n",
       "125622  0.418605  0.409574  0.404878  ...  0.666667  0.666667  0.666667   \n",
       "125623  0.406977  0.409574  0.390244  ...  0.631579  0.666667  0.627451   \n",
       "125624  0.383721  0.382979  0.380488  ...  0.631579  0.648148  0.627451   \n",
       "125625  0.389535  0.382979  0.380488  ...  0.614035  0.611111  0.627451   \n",
       "125626  0.389535  0.382979  0.375610  ...  0.649123  0.611111  0.627451   \n",
       "\n",
       "         band198   band199   band200   band201   band202   band203   band204  \n",
       "125622  0.666667  0.673913  0.697674  0.682927  0.666667  0.675676  0.722222  \n",
       "125623  0.687500  0.608696  0.651163  0.658537  0.692308  0.648649  0.722222  \n",
       "125624  0.666667  0.630435  0.651163  0.658537  0.666667  0.675676  0.666667  \n",
       "125625  0.645833  0.630435  0.674419  0.634146  0.666667  0.648649  0.694444  \n",
       "125626  0.645833  0.630435  0.651163  0.658537  0.641026  0.648649  0.722222  \n",
       "\n",
       "[5 rows x 204 columns]"
      ]
     },
     "execution_count": 7,
     "metadata": {},
     "output_type": "execute_result"
    }
   ],
   "source": [
    "# Remove all null pixels\n",
    "\n",
    "ham = ham_pixels[(ham_pixels.T != 0.0).any()]\n",
    "ham.head()"
   ]
  },
  {
   "cell_type": "code",
   "execution_count": 8,
   "metadata": {},
   "outputs": [
    {
     "name": "stdout",
     "output_type": "stream",
     "text": [
      "<class 'pandas.core.frame.DataFrame'>\n",
      "Int64Index: 15665 entries, 125622 to 177892\n",
      "Columns: 204 entries, band1 to band204\n",
      "dtypes: float32(204)\n",
      "memory usage: 12.3 MB\n"
     ]
    }
   ],
   "source": [
    "ham.info()"
   ]
  },
  {
   "cell_type": "code",
   "execution_count": 9,
   "metadata": {},
   "outputs": [],
   "source": [
    "ham.to_csv(\"D:/data/10.csv\")"
   ]
  },
  {
   "cell_type": "code",
   "execution_count": 11,
   "metadata": {},
   "outputs": [
    {
     "name": "stdout",
     "output_type": "stream",
     "text": [
      "204\n"
     ]
    }
   ],
   "source": [
    "mean = list(ham.mean())\n",
    "print(len(mean))"
   ]
  },
  {
   "cell_type": "code",
   "execution_count": null,
   "metadata": {},
   "outputs": [],
   "source": []
  }
 ],
 "metadata": {
  "kernelspec": {
   "display_name": "Python 3",
   "language": "python",
   "name": "python3"
  },
  "language_info": {
   "codemirror_mode": {
    "name": "ipython",
    "version": 3
   },
   "file_extension": ".py",
   "mimetype": "text/x-python",
   "name": "python",
   "nbconvert_exporter": "python",
   "pygments_lexer": "ipython3",
   "version": "3.8.10"
  }
 },
 "nbformat": 4,
 "nbformat_minor": 4
}
