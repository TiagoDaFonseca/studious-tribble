{
 "cells": [
  {
   "cell_type": "code",
   "execution_count": 2,
   "metadata": {},
   "outputs": [],
   "source": [
    "import pandas as pd\n",
    "import numpy as np\n",
    "import matplotlib.pyplot as plt"
   ]
  },
  {
   "cell_type": "code",
   "execution_count": 68,
   "metadata": {},
   "outputs": [],
   "source": [
    "from termcolor import colored\n",
    "def test(y, x, ch):\n",
    "    # sum 10 adjacent bands for a single spectrum\n",
    "    y_sum = y.reshape(ch, -1)\n",
    "\n",
    "    # Analysis\n",
    "    averages = []\n",
    "    stds = []\n",
    "    cvs = []\n",
    "    for i in range(y_sum.shape[0]):\n",
    "        averages.append(np.mean(y_sum[i]))\n",
    "        stds.append(np.std(y_sum[i]))\n",
    "        cvs.append(stds[i] / averages[i])\n",
    "\n",
    "    # Properties\n",
    "    print(\"--- \" + colored('Properties', 'green'), \" \" + 79 * \"-\")\n",
    "    print(\"Hyperspectral channels: \", y.shape[0])\n",
    "    print(\"MultiSpectra channels: \", len(averages))\n",
    "    # print(f\"{averages=}\")\n",
    "    # print(f\"{stds=}\")\n",
    "    # print(cvs)\n",
    "    l = len(averages)\n",
    "    # Results\n",
    "    print(\"--- \" + colored('Results', 'red'), \" \" + 82 * \"-\")\n",
    "    print(f\"Relative deviations from conversion (%): \")\n",
    "    print(f\"{['{:.2f}'.format(std / avg * 100) for std, avg in zip(stds, averages)]} \\n\")\n",
    "    print(f\"Min: {format(cvs[np.argmin(cvs)] * 100, '.2f')}% -- Max: {format(cvs[np.argmax(cvs)] * 100, '.2f')}%\",\n",
    "          f\"-- Avg: {format(np.average(cvs) * 100, '.2f')}%\")\n",
    "    print(f\"Wavelength range per channel: {600/ch} nm\")\n",
    "\n",
    "    # Graphics\n",
    "    plt.plot(x, y, color='black', label= 'Grape')\n",
    "    #plt.plot(wl,mean_spectrum_fake_green1, label='Fake Green Apples - Multi', color='blue')\n",
    "    plt.bar(x=np.linspace(380 + (648/(2*ch)), 1028 - (648/(2*ch)), l), \n",
    "            height=averages, \n",
    "            width=648/ch - 2, \n",
    "            color=['green' if (index==0 or index==3 or index==l-10 or index==l-6 or index==l-4 or index==l-1) else 'white' \n",
    "                   for index in range(len(averages))])\n",
    "    plt.errorbar(x=np.linspace(380 + (648/(2*ch)), 1028 - (648/(2*ch)), l), \n",
    "                 y=averages, \n",
    "                 yerr=stds, \n",
    "                 linestyle='None', \n",
    "                 marker='o', \n",
    "                 color='red')\n",
    "    plt.ylim(0,0.7)\n",
    "    plt.legend()\n",
    "    plt.show()\n",
    "    \n",
    "# TEST\n",
    "#test(mean_spectrum_fake_green[:200], wl1[:200], 10)"
   ]
  },
  {
   "cell_type": "code",
   "execution_count": 69,
   "metadata": {},
   "outputs": [],
   "source": [
    "data = pd.read_csv('grape_spec.csv')"
   ]
  },
  {
   "cell_type": "code",
   "execution_count": 70,
   "metadata": {},
   "outputs": [
    {
     "data": {
      "text/html": [
       "<div>\n",
       "<style scoped>\n",
       "    .dataframe tbody tr th:only-of-type {\n",
       "        vertical-align: middle;\n",
       "    }\n",
       "\n",
       "    .dataframe tbody tr th {\n",
       "        vertical-align: top;\n",
       "    }\n",
       "\n",
       "    .dataframe thead th {\n",
       "        text-align: right;\n",
       "    }\n",
       "</style>\n",
       "<table border=\"1\" class=\"dataframe\">\n",
       "  <thead>\n",
       "    <tr style=\"text-align: right;\">\n",
       "      <th></th>\n",
       "      <th>spec</th>\n",
       "    </tr>\n",
       "  </thead>\n",
       "  <tbody>\n",
       "    <tr>\n",
       "      <th>0</th>\n",
       "      <td>0.45236</td>\n",
       "    </tr>\n",
       "    <tr>\n",
       "      <th>1</th>\n",
       "      <td>0.45621</td>\n",
       "    </tr>\n",
       "    <tr>\n",
       "      <th>2</th>\n",
       "      <td>0.45332</td>\n",
       "    </tr>\n",
       "    <tr>\n",
       "      <th>3</th>\n",
       "      <td>0.45115</td>\n",
       "    </tr>\n",
       "    <tr>\n",
       "      <th>4</th>\n",
       "      <td>0.45526</td>\n",
       "    </tr>\n",
       "  </tbody>\n",
       "</table>\n",
       "</div>"
      ],
      "text/plain": [
       "      spec\n",
       "0  0.45236\n",
       "1  0.45621\n",
       "2  0.45332\n",
       "3  0.45115\n",
       "4  0.45526"
      ]
     },
     "execution_count": 70,
     "metadata": {},
     "output_type": "execute_result"
    }
   ],
   "source": [
    "data.head()"
   ]
  },
  {
   "cell_type": "code",
   "execution_count": 71,
   "metadata": {},
   "outputs": [
    {
     "data": {
      "text/plain": [
       "(1040, 1)"
      ]
     },
     "execution_count": 71,
     "metadata": {},
     "output_type": "execute_result"
    }
   ],
   "source": [
    "data.shape"
   ]
  },
  {
   "cell_type": "markdown",
   "metadata": {},
   "source": []
  },
  {
   "cell_type": "code",
   "execution_count": 72,
   "metadata": {
    "scrolled": true
   },
   "outputs": [
    {
     "name": "stdout",
     "output_type": "stream",
     "text": [
      "--- \u001b[32mProperties\u001b[0m  -------------------------------------------------------------------------------\n",
      "Hyperspectral channels:  1040\n",
      "MultiSpectra channels:  16\n",
      "--- \u001b[31mResults\u001b[0m  ----------------------------------------------------------------------------------\n",
      "Relative deviations from conversion (%): \n",
      "['1.63', '9.59', '12.74', '8.82', '0.52', '1.49', '0.70', '0.86', '18.82', '13.21', '9.18', '2.32', '0.69', '1.66', '12.32', '4.67'] \n",
      "\n",
      "Min: 0.52% -- Max: 18.82% -- Avg: 6.20%\n",
      "Wavelength range per channel: 37.5 nm\n"
     ]
    },
    {
     "data": {
      "image/png": "[encoded data removed]",
      "text/plain": [
       "<Figure size 432x288 with 1 Axes>"
      ]
     },
     "metadata": {
      "needs_background": "light"
     },
     "output_type": "display_data"
    }
   ],
   "source": [
    "wl1 = np.linspace(380,109\n",
    "                  ,1040)\n",
    "test(data['spec'].to_numpy(), wl1, 16)"
   ]
  },
  {
   "cell_type": "code",
   "execution_count": 17,
   "metadata": {},
   "outputs": [
    {
     "data": {
      "application/javascript": [
       "\n",
       "        if (window._pyforest_update_imports_cell) { window._pyforest_update_imports_cell('import numpy as np'); }\n",
       "    "
      ],
      "text/plain": [
       "<IPython.core.display.Javascript object>"
      ]
     },
     "metadata": {},
     "output_type": "display_data"
    },
    {
     "name": "stdout",
     "output_type": "stream",
     "text": [
      "Error (%) for the selected channels: (4.28 ± 3.59)%\n"
     ]
    }
   ],
   "source": [
    "std = np.std([1.63,8.82,0.70,9.18,0.69,4.67])\n",
    "s = \"{:.2f}\".format(std)\n",
    "print(f\"Error (%) for the selected channels: ({(1.63 + 8.82 + 0.70 + 9.18 + 0.69 + 4.67)/6:.2f} ± \" + s +\")%\")"
   ]
  },
  {
   "cell_type": "code",
   "execution_count": null,
   "metadata": {},
   "outputs": [],
   "source": [
    "# Desvios relativos serao inferiores a 10% em todas as bandas selecionadas"
   ]
  },
  {
   "cell_type": "code",
   "execution_count": null,
   "metadata": {},
   "outputs": [],
   "source": []
  },
  {
   "cell_type": "code",
   "execution_count": null,
   "metadata": {},
   "outputs": [],
   "source": []
  }
 ],
 "metadata": {
  "kernelspec": {
   "display_name": "Python 3",
   "language": "python",
   "name": "python3"
  },
  "language_info": {
   "codemirror_mode": {
    "name": "ipython",
    "version": 3
   },
   "file_extension": ".py",
   "mimetype": "text/x-python",
   "name": "python",
   "nbconvert_exporter": "python",
   "pygments_lexer": "ipython3",
   "version": "3.8.10"
  }
 },
 "nbformat": 4,
 "nbformat_minor": 4
}
